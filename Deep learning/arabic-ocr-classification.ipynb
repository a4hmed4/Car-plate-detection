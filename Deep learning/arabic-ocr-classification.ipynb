{
 "cells": [
  {
   "cell_type": "code",
   "execution_count": 1,
   "metadata": {
    "execution": {
     "iopub.execute_input": "2022-10-29T13:30:31.996030Z",
     "iopub.status.busy": "2022-10-29T13:30:31.995355Z",
     "iopub.status.idle": "2022-10-29T13:30:32.004803Z",
     "shell.execute_reply": "2022-10-29T13:30:32.003568Z",
     "shell.execute_reply.started": "2022-10-29T13:30:31.995998Z"
    }
   },
   "outputs": [],
   "source": [
    "#import libraries\n",
    "from keras.models import Sequential\n",
    "from keras.layers import Dense\n",
    "from keras.layers import Dropout\n",
    "from keras.layers import Flatten\n",
    "from keras.constraints import max_norm\n",
    "from tensorflow.keras.layers import Conv2D\n",
    "from keras.layers import Dense, Conv2D ,Flatten,Dropout,MaxPool2D, BatchNormalization\n",
    "from tensorflow.keras.utils import to_categorical\n",
    "import tensorflow as tf\n",
    "from keras.preprocessing.image import ImageDataGenerator\n",
    "from tensorflow.keras.preprocessing import image_dataset_from_directory  \n",
    "from tensorflow.keras.preprocessing import image\n",
    "import keras\n",
    "from PIL import Image\n",
    "import matplotlib.pyplot as plt\n",
    "import numpy as np \n",
    "import tensorflow as tf\n",
    "import pandas as pd\n",
    "import seaborn\n",
    "from sklearn.metrics import confusion_matrix , classification_report\n",
    "from tensorflow.keras.applications  import DenseNet121\n",
    "from tensorflow.keras import layers"
   ]
  },
  {
   "cell_type": "code",
   "execution_count": 2,
   "metadata": {
    "execution": {
     "iopub.execute_input": "2022-10-29T13:31:37.887029Z",
     "iopub.status.busy": "2022-10-29T13:31:37.886702Z",
     "iopub.status.idle": "2022-10-29T13:31:38.304131Z",
     "shell.execute_reply": "2022-10-29T13:31:38.237719Z",
     "shell.execute_reply.started": "2022-10-29T13:31:37.887001Z"
    }
   },
   "outputs": [],
   "source": [
    "#import our data\n",
    "train_datagen = ImageDataGenerator(\n",
    "    rescale=1. / 255,rotation_range=10, fill_mode='nearest',\n",
    "     featurewise_center=True,\n",
    "    featurewise_std_normalization=True,\n",
    "    vertical_flip= True,\n",
    "    shear_range=0.2,\n",
    "    zoom_range=0.2,\n",
    "    brightness_range = (0.4,0.6),\n",
    "    horizontal_flip=True,validation_split=0.3)"
   ]
  },
  {
   "cell_type": "code",
   "execution_count": 3,
   "metadata": {
    "execution": {
     "iopub.execute_input": "2022-10-29T13:31:38.360655Z",
     "iopub.status.busy": "2022-10-29T13:31:38.360337Z",
     "iopub.status.idle": "2022-10-29T13:32:29.643143Z",
     "shell.execute_reply": "2022-10-29T13:32:29.642217Z",
     "shell.execute_reply.started": "2022-10-29T13:31:38.360626Z"
    }
   },
   "outputs": [
    {
     "name": "stdout",
     "output_type": "stream",
     "text": [
      "Found 67733 images belonging to 39 classes.\n"
     ]
    }
   ],
   "source": [
    "train_generator = train_datagen.flow_from_directory(\n",
    "    './Dataset',\n",
    "    target_size=(224, 224),\n",
    "    batch_size=32,subset='training'\n",
    "  )"
   ]
  },
  {
   "cell_type": "code",
   "execution_count": 4,
   "metadata": {
    "execution": {
     "iopub.execute_input": "2022-10-29T13:33:32.645751Z",
     "iopub.status.busy": "2022-10-29T13:33:32.645374Z",
     "iopub.status.idle": "2022-10-29T13:33:48.470773Z",
     "shell.execute_reply": "2022-10-29T13:33:48.469742Z",
     "shell.execute_reply.started": "2022-10-29T13:33:32.645719Z"
    }
   },
   "outputs": [
    {
     "name": "stdout",
     "output_type": "stream",
     "text": [
      "Found 29016 images belonging to 39 classes.\n"
     ]
    }
   ],
   "source": [
    "test_generator = train_datagen.flow_from_directory(\n",
    "     './Dataset',\n",
    "    target_size=(224, 224),\n",
    "    batch_size=32,subset='validation'\n",
    "  )"
   ]
  },
  {
   "cell_type": "code",
   "execution_count": null,
   "metadata": {
    "execution": {
     "iopub.execute_input": "2022-10-29T13:34:15.519385Z",
     "iopub.status.busy": "2022-10-29T13:34:15.519048Z",
     "iopub.status.idle": "2022-10-29T13:34:39.621620Z",
     "shell.execute_reply": "2022-10-29T13:34:39.620442Z",
     "shell.execute_reply.started": "2022-10-29T13:34:15.519355Z"
    }
   },
   "outputs": [],
   "source": [
    "import os\n",
    "import tensorflow as tf\n",
    "import matplotlib.pyplot as plt\n",
    "\n",
    "def load_and_preprocess_image(file_path, label):\n",
    "    img = tf.io.read_file(file_path)\n",
    "    img = tf.image.decode_jpeg(img, channels=3)\n",
    "    img = tf.image.resize(img, [224, 224])\n",
    "    img = img / 255.0  # Normalize to [0,1]\n",
    "    return img, label\n",
    "\n",
    "# Directory with your dataset\n",
    "dataset_dir = './Dataset'\n",
    "\n",
    "# Create a mapping between class names and integer labels\n",
    "class_to_label = {class_name: i for i, class_name in enumerate(os.listdir(dataset_dir))}\n",
    "\n",
    "# List files and labels\n",
    "file_paths = []\n",
    "labels = []\n",
    "\n",
    "for class_name in os.listdir(dataset_dir):\n",
    "    class_dir = os.path.join(dataset_dir, class_name)\n",
    "    if os.path.isdir(class_dir):\n",
    "        class_label = class_to_label[class_name]\n",
    "        for filename in os.listdir(class_dir):\n",
    "            file_path = os.path.join(class_dir, filename)\n",
    "            file_paths.append(file_path)\n",
    "            labels.append(class_label)\n",
    "\n",
    "# Create a dataset using tf.data.Dataset\n",
    "dataset = tf.data.Dataset.from_tensor_slices((file_paths, labels))\n",
    "dataset = dataset.map(load_and_preprocess_image)\n",
    "\n",
    "# Shuffle and batch the dataset\n",
    "batch_size = 32\n",
    "dataset = dataset.shuffle(buffer_size=len(file_paths)).batch(batch_size)\n",
    "\n",
    "# Visualize the dataset\n",
    "plt.figure(figsize=(10, 10))\n",
    "for images, labels in dataset.take(1):\n",
    "    for i in range(9):\n",
    "        plt.subplot(3, 3, i + 1)\n",
    "        plt.imshow(images[i].numpy().astype(\"uint8\"))\n",
    "        plt.title(str(labels[i].numpy()))\n",
    "        plt.axis(\"off\")\n",
    "\n",
    "plt.show()\n"
   ]
  },
  {
   "cell_type": "code",
   "execution_count": 1,
   "metadata": {
    "execution": {
     "iopub.execute_input": "2022-10-29T13:34:39.625874Z",
     "iopub.status.busy": "2022-10-29T13:34:39.623652Z",
     "iopub.status.idle": "2022-10-29T13:34:42.456436Z",
     "shell.execute_reply": "2022-10-29T13:34:42.455419Z",
     "shell.execute_reply.started": "2022-10-29T13:34:39.625836Z"
    }
   },
   "outputs": [
    {
     "ename": "NameError",
     "evalue": "name 'DenseNet121' is not defined",
     "output_type": "error",
     "traceback": [
      "\u001b[1;31m---------------------------------------------------------------------------\u001b[0m",
      "\u001b[1;31mNameError\u001b[0m                                 Traceback (most recent call last)",
      "Cell \u001b[1;32mIn[1], line 2\u001b[0m\n\u001b[0;32m      1\u001b[0m \u001b[38;5;66;03m#call Dense model\u001b[39;00m\n\u001b[1;32m----> 2\u001b[0m dense_model \u001b[38;5;241m=\u001b[39m DenseNet121(include_top\u001b[38;5;241m=\u001b[39m\u001b[38;5;28;01mTrue\u001b[39;00m , weights\u001b[38;5;241m=\u001b[39m\u001b[38;5;124m'\u001b[39m\u001b[38;5;124mimagenet\u001b[39m\u001b[38;5;124m'\u001b[39m)\n\u001b[0;32m      3\u001b[0m \u001b[38;5;28;01mfor\u001b[39;00m models \u001b[38;5;129;01min\u001b[39;00m dense_model\u001b[38;5;241m.\u001b[39mlayers:\n\u001b[0;32m      4\u001b[0m     models\u001b[38;5;241m.\u001b[39mtrainable\u001b[38;5;241m=\u001b[39m \u001b[38;5;28;01mFalse\u001b[39;00m\n",
      "\u001b[1;31mNameError\u001b[0m: name 'DenseNet121' is not defined"
     ]
    }
   ],
   "source": [
    "#call Dense model\n",
    "dense_model = DenseNet121(include_top=True , weights='imagenet')\n",
    "for models in dense_model.layers:\n",
    "    models.trainable= False"
   ]
  },
  {
   "cell_type": "code",
   "execution_count": null,
   "metadata": {
    "execution": {
     "iopub.execute_input": "2022-10-29T13:34:42.458253Z",
     "iopub.status.busy": "2022-10-29T13:34:42.457884Z",
     "iopub.status.idle": "2022-10-29T13:34:43.460120Z",
     "shell.execute_reply": "2022-10-29T13:34:43.459162Z",
     "shell.execute_reply.started": "2022-10-29T13:34:42.458216Z"
    }
   },
   "outputs": [],
   "source": [
    "#removing the last 2 alyer to get rid of output layer in DenseNet121\n",
    "dense_model = keras.Model(inputs=dense_model.input, outputs=dense_model.layers[-2].output)\n",
    "model = tf.keras.Sequential()\n",
    "# for layer in dense_model.layers:\n",
    "model.add(dense_model)\n",
    "model.add(Dropout(0.3))\n",
    "model.add(Flatten())\n",
    "\n",
    "model.add(Dense(39, activation='softmax'))"
   ]
  },
  {
   "cell_type": "code",
   "execution_count": null,
   "metadata": {
    "execution": {
     "iopub.execute_input": "2022-10-29T13:34:43.466441Z",
     "iopub.status.busy": "2022-10-29T13:34:43.466156Z",
     "iopub.status.idle": "2022-10-29T13:34:43.486396Z",
     "shell.execute_reply": "2022-10-29T13:34:43.485486Z",
     "shell.execute_reply.started": "2022-10-29T13:34:43.466416Z"
    }
   },
   "outputs": [],
   "source": [
    "model.compile(optimizer=\"adam\", loss=keras.losses.CategoricalCrossentropy(), metrics=['accuracy'])\n",
    "early = tf.keras.callbacks.EarlyStopping(monitor='val_loss',patience=5,restore_best_weights=True)\n",
    "checkpoint = tf.keras.callbacks.ModelCheckpoint('model.h5', save_best_only=True, monitor='val_loss', mode='min')\n"
   ]
  },
  {
   "cell_type": "code",
   "execution_count": null,
   "metadata": {
    "execution": {
     "iopub.execute_input": "2022-10-29T13:34:43.488255Z",
     "iopub.status.busy": "2022-10-29T13:34:43.487825Z",
     "iopub.status.idle": "2022-10-29T13:34:43.512319Z",
     "shell.execute_reply": "2022-10-29T13:34:43.511295Z",
     "shell.execute_reply.started": "2022-10-29T13:34:43.488219Z"
    }
   },
   "outputs": [],
   "source": [
    "model.summary()"
   ]
  },
  {
   "cell_type": "code",
   "execution_count": null,
   "metadata": {
    "execution": {
     "iopub.execute_input": "2022-10-29T13:34:43.514120Z",
     "iopub.status.busy": "2022-10-29T13:34:43.513680Z",
     "iopub.status.idle": "2022-10-29T20:28:10.109232Z",
     "shell.execute_reply": "2022-10-29T20:28:10.107994Z",
     "shell.execute_reply.started": "2022-10-29T13:34:43.514073Z"
    }
   },
   "outputs": [],
   "source": [
    "FIT =model.fit(train_generator,\n",
    "    validation_data = test_generator, \n",
    "    callbacks = [early,checkpoint],\n",
    "    epochs = 20)"
   ]
  },
  {
   "cell_type": "code",
   "execution_count": null,
   "metadata": {
    "execution": {
     "iopub.execute_input": "2022-10-29T20:28:10.112253Z",
     "iopub.status.busy": "2022-10-29T20:28:10.111896Z",
     "iopub.status.idle": "2022-10-29T20:28:10.632293Z",
     "shell.execute_reply": "2022-10-29T20:28:10.631440Z",
     "shell.execute_reply.started": "2022-10-29T20:28:10.112217Z"
    }
   },
   "outputs": [],
   "source": [
    "#plotting training values\n",
    "import matplotlib.pyplot as plt\n",
    "import seaborn as sns\n",
    "sns.set()\n",
    "\n",
    "acc = FIT.history['accuracy']\n",
    "val_acc = FIT.history['val_accuracy']\n",
    "loss = FIT.history['loss']\n",
    "val_loss = FIT.history['val_loss']\n",
    "epochs = range(1, len(loss) + 1)\n",
    "\n",
    "#accuracy plot\n",
    "plt.plot(epochs, acc, color='green', label='Training Accuracy')\n",
    "plt.plot(epochs, val_acc, color='blue', label='Validation Accuracy')\n",
    "plt.title('Training and Validation Accuracy')\n",
    "plt.ylabel('Accuracy')\n",
    "plt.xlabel('Epoch')\n",
    "plt.legend()\n",
    "\n",
    "plt.figure()\n",
    "#loss plot\n",
    "plt.plot(epochs, loss, color='pink', label='Training Loss')\n",
    "plt.plot(epochs, val_loss, color='red', label='Validation Loss')\n",
    "plt.title('Training and Validation Loss')\n",
    "plt.xlabel('Epoch')\n",
    "plt.ylabel('Loss')\n",
    "plt.legend()\n",
    "\n",
    "plt.show()"
   ]
  },
  {
   "cell_type": "code",
   "execution_count": null,
   "metadata": {
    "execution": {
     "iopub.execute_input": "2022-10-29T21:41:19.212477Z",
     "iopub.status.busy": "2022-10-29T21:41:19.212120Z",
     "iopub.status.idle": "2022-10-29T21:41:19.220884Z",
     "shell.execute_reply": "2022-10-29T21:41:19.217240Z",
     "shell.execute_reply.started": "2022-10-29T21:41:19.212447Z"
    }
   },
   "outputs": [],
   "source": [
    "\n",
    "#predict test data\n",
    "y = model.predict(test_generator)\n",
    "y =  np.argmax(y,axis= 1 )\n",
    "\n",
    "\n"
   ]
  },
  {
   "cell_type": "code",
   "execution_count": null,
   "metadata": {
    "execution": {
     "iopub.execute_input": "2022-10-29T22:07:08.947883Z",
     "iopub.status.busy": "2022-10-29T22:07:08.947435Z",
     "iopub.status.idle": "2022-10-29T22:07:08.954222Z",
     "shell.execute_reply": "2022-10-29T22:07:08.953186Z",
     "shell.execute_reply.started": "2022-10-29T22:07:08.947848Z"
    }
   },
   "outputs": [],
   "source": []
  },
  {
   "cell_type": "code",
   "execution_count": null,
   "metadata": {
    "execution": {
     "iopub.execute_input": "2022-10-29T21:47:31.042648Z",
     "iopub.status.busy": "2022-10-29T21:47:31.042280Z",
     "iopub.status.idle": "2022-10-29T21:54:39.463654Z",
     "shell.execute_reply": "2022-10-29T21:54:39.462687Z",
     "shell.execute_reply.started": "2022-10-29T21:47:31.042617Z"
    }
   },
   "outputs": [],
   "source": [
    "#y_true and y_pred\n",
    "y_true = np.array([])\n",
    "y_pred = np.array([])\n",
    "i = 0\n",
    "for data, labels in test_generator:\n",
    "    i += 1\n",
    "    y = np.argmax(model.predict(data), axis=1)\n",
    "    y_true = np.append(y_true, labels)\n",
    "    y_pred = np.append(y_pred, y)\n",
    "    \n",
    "    if i == test_generator.samples // 32 + 1:\n",
    "        break\n"
   ]
  },
  {
   "cell_type": "code",
   "execution_count": null,
   "metadata": {
    "execution": {
     "iopub.execute_input": "2022-10-29T22:09:18.382638Z",
     "iopub.status.busy": "2022-10-29T22:09:18.382228Z",
     "iopub.status.idle": "2022-10-29T22:15:22.919470Z",
     "shell.execute_reply": "2022-10-29T22:15:22.918461Z",
     "shell.execute_reply.started": "2022-10-29T22:09:18.382602Z"
    }
   },
   "outputs": [],
   "source": [
    "model.evaluate(test_generator)"
   ]
  },
  {
   "cell_type": "code",
   "execution_count": null,
   "metadata": {
    "execution": {
     "iopub.execute_input": "2022-10-29T22:26:23.435389Z",
     "iopub.status.busy": "2022-10-29T22:26:23.434987Z",
     "iopub.status.idle": "2022-10-29T22:26:23.440381Z",
     "shell.execute_reply": "2022-10-29T22:26:23.439437Z",
     "shell.execute_reply.started": "2022-10-29T22:26:23.435355Z"
    }
   },
   "outputs": [],
   "source": [
    "class_names = {}\n",
    "l = list(test_generator.class_indices.keys())\n",
    "for i in range(len(l)) :\n",
    "    class_names[i] = l[i]"
   ]
  },
  {
   "cell_type": "code",
   "execution_count": null,
   "metadata": {
    "execution": {
     "iopub.execute_input": "2022-10-29T22:27:48.286642Z",
     "iopub.status.busy": "2022-10-29T22:27:48.285382Z",
     "iopub.status.idle": "2022-10-29T22:27:48.575345Z",
     "shell.execute_reply": "2022-10-29T22:27:48.574374Z",
     "shell.execute_reply.started": "2022-10-29T22:27:48.286592Z"
    }
   },
   "outputs": [],
   "source": [
    "#example 1\n",
    "from keras.preprocessing import image\n",
    "import numpy as np\n",
    "image_path = \"../input/arabic-letters-numbers-ocr/Dataset/ا/1023.png\"\n",
    "new_img = image.load_img(image_path, target_size=(64, 64))\n",
    "img = image.img_to_array(new_img)\n",
    "img = np.expand_dims(img, axis=0)\n",
    "prediction = model.predict(img)\n",
    "prediction = np.argmax(prediction,axis=1)\n",
    "print(prediction)\n",
    "print(class_names[prediction[0]])\n",
    "plt.imshow(new_img)"
   ]
  },
  {
   "cell_type": "code",
   "execution_count": null,
   "metadata": {
    "execution": {
     "iopub.execute_input": "2022-10-29T22:20:26.141525Z",
     "iopub.status.busy": "2022-10-29T22:20:26.140457Z",
     "iopub.status.idle": "2022-10-29T22:20:31.005034Z",
     "shell.execute_reply": "2022-10-29T22:20:31.004142Z",
     "shell.execute_reply.started": "2022-10-29T22:20:26.141464Z"
    }
   },
   "outputs": [],
   "source": [
    "cm  = confusion_matrix(y_pred,y_true)\n",
    "plt.figure(figsize=(32,32))\n",
    "df_cm = pd.DataFrame(cm, index = [i for i in range(39)],\n",
    "                  columns = [i for i in range(39)])\n",
    "seaborn.heatmap(df_cm, annot=True, annot_kws={\"size\": 10}, fmt='d')\n",
    "plt.title('confusion matrix')\n",
    "plt.xlabel('prediction')\n",
    "plt.ylabel('Actual');\n",
    "plt.show()\n"
   ]
  },
  {
   "cell_type": "code",
   "execution_count": null,
   "metadata": {},
   "outputs": [],
   "source": []
  },
  {
   "cell_type": "code",
   "execution_count": null,
   "metadata": {},
   "outputs": [],
   "source": []
  }
 ],
 "metadata": {
  "kernelspec": {
   "display_name": "Python 3 (ipykernel)",
   "language": "python",
   "name": "python3"
  },
  "language_info": {
   "codemirror_mode": {
    "name": "ipython",
    "version": 3
   },
   "file_extension": ".py",
   "mimetype": "text/x-python",
   "name": "python",
   "nbconvert_exporter": "python",
   "pygments_lexer": "ipython3",
   "version": "3.11.4"
  }
 },
 "nbformat": 4,
 "nbformat_minor": 4
}
