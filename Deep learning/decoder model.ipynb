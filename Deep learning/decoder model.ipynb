{
 "cells": [
  {
   "cell_type": "code",
   "execution_count": 1,
   "id": "644a7ab9",
   "metadata": {},
   "outputs": [
    {
     "name": "stdout",
     "output_type": "stream",
     "text": [
      "WARNING:tensorflow:From C:\\Users\\user\\anaconda3\\Lib\\site-packages\\keras\\src\\losses.py:2976: The name tf.losses.sparse_softmax_cross_entropy is deprecated. Please use tf.compat.v1.losses.sparse_softmax_cross_entropy instead.\n",
      "\n"
     ]
    }
   ],
   "source": [
    "import matplotlib.pyplot as plt\n",
    "import numpy as np\n",
    "import cv2\n",
    "import os\n",
    "import pandas as pd\n",
    "import seaborn as sns\n",
    "from tqdm import tqdm\n",
    "import tensorflow as tf\n",
    "from PIL import Image\n",
    "import glob\n",
    "import o"
   ]
  },
  {
   "cell_type": "code",
   "execution_count": 2,
   "id": "b084e7bc",
   "metadata": {},
   "outputs": [],
   "source": [
    "from sklearn.metrics import f1_score \n",
    "from sklearn.utils import shuffle\n",
    "from sklearn.model_selection import train_test_split\n",
    "from sklearn.metrics import classification_report,confusion_matrix\n",
    "from sklearn.metrics import roc_curve, roc_auc_score\n",
    "from sklearn.metrics import precision_recall_curve, average_precision_score\n",
    "# model / neural network\n",
    "from tensorflow.keras import layers\n",
    "from tensorflow.keras.models import Sequential, Model\n",
    "from tensorflow.keras.applications import ResNet50\n",
    "from tensorflow.keras.applications.resnet50 import preprocess_input"
   ]
  },
  {
   "cell_type": "code",
   "execution_count": 3,
   "id": "49308831",
   "metadata": {},
   "outputs": [],
   "source": [
    "from tensorflow.keras import optimizers\n",
    "from tensorflow.keras.models import Sequential\n",
    "from tensorflow.keras.preprocessing.image import ImageDataGenerator\n",
    "from tensorflow.keras.layers import Dense, Flatten, MaxPooling2D, Dropout, Conv2D\n",
    "from tensorflow.keras.applications import EfficientNetB0\n",
    "from tensorflow.keras.models import load_model\n",
    "from keras.preprocessing.image import ImageDataGenerator\n",
    "from tensorflow.keras.preprocessing import image_dataset_from_directory  \n",
    "from tensorflow.keras.callbacks import EarlyStopping, ReduceLROnPlateau, TensorBoard, ModelCheckpoint"
   ]
  },
  {
   "cell_type": "code",
   "execution_count": 4,
   "id": "ff65348b",
   "metadata": {},
   "outputs": [],
   "source": [
    "# Imports\n",
    "import torch\n",
    "device = torch.device(\"cuda\" if torch.cuda.is_available() else \"cpu\")"
   ]
  },
  {
   "cell_type": "code",
   "execution_count": 5,
   "id": "a489d856",
   "metadata": {},
   "outputs": [],
   "source": [
    "#import libraries\n",
    "from keras.models import Sequential\n",
    "from keras.layers import Dense\n",
    "from keras.layers import Dropout\n",
    "from keras.layers import Flatten\n",
    "from keras.constraints import max_norm\n",
    "#from keras.layers.convolutional import Conv2D\n",
    "from keras.layers import Dense, Conv2D ,Flatten,Dropout,MaxPool2D, BatchNormalization\n",
    "#from keras.utils import np_utils\n",
    "from tensorflow.keras.utils import to_categorical\n",
    "\n",
    "import tensorflow as tf\n",
    "from keras.preprocessing.image import ImageDataGenerator\n",
    "from tensorflow.keras.preprocessing import image_dataset_from_directory  \n",
    "from tensorflow.keras.preprocessing import image\n",
    "import keras\n",
    "from PIL import Image\n",
    "import matplotlib.pyplot as plt\n",
    "import numpy as np \n",
    "import tensorflow as tf\n",
    "import pandas as pd\n",
    "import seaborn\n",
    "from sklearn.metrics import confusion_matrix , classification_report\n",
    "from tensorflow.keras.applications  import DenseNet121\n",
    "from tensorflow.keras import layers\n",
    "from tensorflow.keras.layers import Conv2D\n",
    "from tensorflow.keras.layers import Dense, Flatten, Dropout, MaxPool2D, BatchNormalization\n",
    "from tensorflow.keras.constraints import max_norm\n",
    "#from tensorflow.keras.utils import np_utils\n"
   ]
  },
  {
   "cell_type": "code",
   "execution_count": 6,
   "id": "3820afc5",
   "metadata": {},
   "outputs": [
    {
     "data": {
      "image/png": "[encoded data removed]",
      "text/plain": [
       "<Figure size 500x100 with 1 Axes>"
      ]
     },
     "metadata": {},
     "output_type": "display_data"
    },
    {
     "data": {
      "image/png": "[encoded data removed]",
      "text/plain": [
       "<Figure size 500x100 with 1 Axes>"
      ]
     },
     "metadata": {},
     "output_type": "display_data"
    },
    {
     "data": {
      "image/png": "[encoded data removed]",
      "text/plain": [
       "<Figure size 500x100 with 1 Axes>"
      ]
     },
     "metadata": {},
     "output_type": "display_data"
    }
   ],
   "source": [
    "colors_dark = [\"#1F1F1F\", \"#313131\", '#636363', '#AEAEAE', '#DADADA']\n",
    "colors_red = [\"#331313\", \"#582626\", '#9E1717', '#D35151', '#E9B4B4']\n",
    "colors_green = ['#01411C','#4B6F44','#4F7942','#74C365','#D0F0C0']\n",
    "\n",
    "sns.palplot(colors_dark)\n",
    "sns.palplot(colors_green)\n",
    "sns.palplot(colors_red)"
   ]
  },
  {
   "cell_type": "code",
   "execution_count": 7,
   "id": "4fa43274",
   "metadata": {},
   "outputs": [],
   "source": [
    "import numpy as np\n",
    "import cv2\n",
    "\n",
    "# Match contours to license plate or character template\n",
    "def find_contours(dimensions, img):\n",
    "\n",
    "    # Find all contours in the image\n",
    "    cntrs, _ = cv2.findContours(img.copy(), cv2.RETR_TREE, cv2.CHAIN_APPROX_SIMPLE)\n",
    "    \n",
    "    # Retrieve potential dimensions\n",
    "    lower_width = dimensions[0]\n",
    "    upper_width = dimensions[1]\n",
    "    lower_height = dimensions[2]\n",
    "    upper_height = dimensions[3]\n",
    "    \n",
    "    # Check largest 5 or 15 contours for license plate or character respectively\n",
    "    cntrs = sorted(cntrs, key=cv2.contourArea, reverse=True)[:15]\n",
    "    \n",
    "    # Read the binary image\n",
    "    ii = cv2.imread('contour.jpg')\n",
    "\n",
    "    x_cntr_list = []\n",
    "    target_contours = []\n",
    "    img_res = []\n",
    "    \n",
    "    # Read all contours detected\n",
    "    for cntr in cntrs :\n",
    "        #detects contour in binary image and returns the coordinates of rectangle enclosing it\n",
    "        intX, intY, intWidth, intHeight = cv2.boundingRect(cntr)\n",
    "        \n",
    "        #checking the dimensions of the contour to filter out the characters by contour's size\n",
    "        if intWidth > lower_width and intWidth < upper_width and intHeight > lower_height and intHeight < upper_height :\n",
    "            \n",
    "            # stores the x coordinate of the character's contour, to used later for indexing the contours\n",
    "            x_cntr_list.append(intX)\n",
    "            char_copy = np.zeros((44,24))\n",
    "            \n",
    "            #extracting each character using the enclosing rectangle's coordinates.\n",
    "            char = img[intY:intY+intHeight, intX:intX+intWidth]\n",
    "            char = cv2.resize(char, (20, 40))\n",
    "            \n",
    "            # Draw rectangle around contour\n",
    "            cv2.rectangle(ii, (intX,intY), (intWidth+intX, intY+intHeight), (50,21,200), 2)\n",
    "            \n",
    "            # Display the uptated binary image with new contour\n",
    "            plt.imshow(ii, cmap='gray')\n",
    "            \n",
    "            # Make result formatted for classification: invert colors\n",
    "            char = cv2.subtract(255, char)\n",
    "            \n",
    "            # Resize the image to 24x44 with black border\n",
    "            char_copy[2:42, 2:22] = char\n",
    "            char_copy[0:2, :] = 0\n",
    "            char_copy[:, 0:2] = 0\n",
    "            char_copy[42:44, :] = 0\n",
    "            char_copy[:, 22:24] = 0\n",
    "            \n",
    "            # List that stores the character's binary image (unsorted)\n",
    "            img_res.append(char_copy) \n",
    "            \n",
    "    # arbitrary function that stores sorted list of character indeces\n",
    "    indices = sorted(range(len(x_cntr_list)), key=lambda k: x_cntr_list[k])\n",
    "    img_res_copy = []\n",
    "    \n",
    "    for idx in indices:\n",
    "        # stores character images according to their index\n",
    "        img_res_copy.append(img_res[idx])\n",
    "        \n",
    "    img_res = np.array(img_res_copy)\n",
    "   \n",
    "    return img_res"
   ]
  },
  {
   "cell_type": "code",
   "execution_count": 8,
   "id": "be085189",
   "metadata": {},
   "outputs": [],
   "source": [
    "# Find characters in the resulting images and Preprocess license plate image\n",
    "def segment_characters(image):\n",
    "    # Resizing\n",
    "    img_lp = cv2.resize(image, (233, 55))\n",
    "\n",
    "    # Apply gray scale\n",
    "    img_gray_lp = cv2.cvtColor(img_lp, cv2.COLOR_BGR2GRAY)\n",
    "    \n",
    "    # Convert to binary image\n",
    "    _, img_binary_lp = cv2.threshold(img_gray_lp, 200, 255, cv2.THRESH_BINARY+cv2.THRESH_OTSU)\n",
    "    \n",
    "    # Erode unwanted pixels\n",
    "    img_binary_lp = cv2.erode(img_binary_lp, (3,3))\n",
    "    \n",
    "    # Dilate unwanted pixels\n",
    "    img_binary_lp = cv2.dilate(img_binary_lp, (3,3))\n",
    "    \n",
    "    LP_WIDTH = img_binary_lp.shape[0]\n",
    "    LP_HEIGHT = img_binary_lp.shape[1]\n",
    "    \n",
    "    # Make borders white\n",
    "    img_binary_lp[0:3,:] = 255\n",
    "    img_binary_lp[:,0:3] = 255\n",
    "    img_binary_lp[72:75,:] = 255\n",
    "    img_binary_lp[:,330:333] = 255\n",
    "    \n",
    "    # Estimations of character contours sizes of cropped license plates\n",
    "    dimensions = [(LP_WIDTH/6) + 0.5, (LP_WIDTH/2) + 7.5, (LP_HEIGHT/10) - 15, 2 * LP_HEIGHT/3]\n",
    "    \n",
    "    # Visual display of binary image\n",
    "    plt.imshow(img_binary_lp, cmap='gray')\n",
    "    plt.show()\n",
    "    \n",
    "    # Create a binary image for next steps\n",
    "    cv2.imwrite('contour.jpg',img_binary_lp)\n",
    "\n",
    "    # Get contours within cropped license plate\n",
    "    char_list = find_contours(dimensions, img_binary_lp)\n",
    "\n",
    "    return char_list"
   ]
  },
  {
   "cell_type": "code",
   "execution_count": 9,
   "id": "2ca27e29",
   "metadata": {},
   "outputs": [
    {
     "data": {
      "image/png": "[encoded data removed]",
      "text/plain": [
       "<Figure size 640x480 with 1 Axes>"
      ]
     },
     "metadata": {},
     "output_type": "display_data"
    },
    {
     "data": {
      "image/png": "[encoded data removed]",
      "text/plain": [
       "<Figure size 640x480 with 1 Axes>"
      ]
     },
     "metadata": {},
     "output_type": "display_data"
    }
   ],
   "source": [
    "img = cv2.imread('D:\\\\car_plate_detection\\\\EALPR_master\\\\Plates_dataset\\\\0001_license_plate_1.png')\n",
    "char = segment_characters(img)"
   ]
  },
  {
   "cell_type": "code",
   "execution_count": 10,
   "id": "746177d7",
   "metadata": {},
   "outputs": [
    {
     "data": {
      "image/png": "[encoded data removed]",
      "text/plain": [
       "<Figure size 640x480 with 7 Axes>"
      ]
     },
     "metadata": {},
     "output_type": "display_data"
    }
   ],
   "source": [
    "for i in range(len(char)):\n",
    "    plt.subplot(1, 10, i+1)\n",
    "    plt.imshow(char[i], cmap='gray')\n",
    "    plt.axis('off')"
   ]
  },
  {
   "cell_type": "code",
   "execution_count": null,
   "id": "add025be",
   "metadata": {},
   "outputs": [],
   "source": []
  },
  {
   "cell_type": "code",
   "execution_count": 11,
   "id": "ad8db660",
   "metadata": {},
   "outputs": [
    {
     "name": "stdout",
     "output_type": "stream",
     "text": [
      "Image loaded successfully.\n",
      "Image shape: (64, 64, 3)\n",
      "Image data type: uint8\n"
     ]
    },
    {
     "data": {
      "text/plain": [
       "<matplotlib.image.AxesImage at 0x1fdbd973690>"
      ]
     },
     "execution_count": 11,
     "metadata": {},
     "output_type": "execute_result"
    },
    {
     "data": {
      "image/png": "[encoded data removed]",
      "text/plain": [
       "<Figure size 640x480 with 1 Axes>"
      ]
     },
     "metadata": {},
     "output_type": "display_data"
    }
   ],
   "source": [
    "img = cv2.imread(\"D:/car_plate_detection/Arabic Letters & Numbers OCR/Dataset3/4/6w.png\")\n",
    "if img is not None:\n",
    "    print(\"Image loaded successfully.\")\n",
    "    print(\"Image shape:\", img.shape)\n",
    "    print(\"Image data type:\", img.dtype)\n",
    "plt.imshow(img)"
   ]
  },
  {
   "cell_type": "code",
   "execution_count": 15,
   "id": "795e62cf",
   "metadata": {},
   "outputs": [
    {
     "data": {
      "text/plain": [
       "(11707, 224, 224, 3)"
      ]
     },
     "execution_count": 15,
     "metadata": {},
     "output_type": "execute_result"
    }
   ],
   "source": [
    "temp = []\n",
    "i = 0\n",
    "max = 30000\n",
    "root_dir = 'D:\\\\car_plate_detection\\\\Arabic Letters & Numbers OCR\\\\Dataset3'\n",
    "\n",
    "for dirpath, dirnames, filenames in os.walk(root_dir):\n",
    "    for filename in filenames:\n",
    "        file_path = os.path.join(dirpath, filename)\n",
    "        img = cv2.imread(file_path)\n",
    "        #b, g, r = cv2.split(img)\n",
    "        img = cv2.merge([r, g, b])\n",
    "        img = cv2.resize(img, dsize=(224, 224), interpolation=cv2.INTER_CUBIC)\n",
    "        temp.append(img)\n",
    "        i = i+1\n",
    "        if i > max: \n",
    "            break\n",
    "images = np.array(temp)\n",
    "images.shape"
   ]
  },
  {
   "cell_type": "code",
   "execution_count": 16,
   "id": "82fb5916",
   "metadata": {},
   "outputs": [
    {
     "data": {
      "text/plain": [
       "<matplotlib.image.AxesImage at 0x1fdd9aa3290>"
      ]
     },
     "execution_count": 16,
     "metadata": {},
     "output_type": "execute_result"
    },
    {
     "data": {
      "image/png": "[encoded data removed]",
      "text/plain": [
       "<Figure size 640x480 with 1 Axes>"
      ]
     },
     "metadata": {},
     "output_type": "display_data"
    }
   ],
   "source": [
    "plt.imshow(images[881])"
   ]
  },
  {
   "cell_type": "code",
   "execution_count": 25,
   "id": "59d15af1",
   "metadata": {},
   "outputs": [
    {
     "name": "stdout",
     "output_type": "stream",
     "text": [
      "Model: \"model_3\"\n",
      "_________________________________________________________________\n",
      " Layer (type)                Output Shape              Param #   \n",
      "=================================================================\n",
      " input_3 (InputLayer)        [(None, 224, 224, 3)]     0         \n",
      "                                                                 \n",
      " e1 (Conv2D)                 (None, 224, 224, 128)     3584      \n",
      "                                                                 \n",
      " e2 (Conv2D)                 (None, 224, 224, 64)      73792     \n",
      "                                                                 \n",
      " max_pooling2d_2 (MaxPoolin  (None, 112, 112, 64)      0         \n",
      " g2D)                                                            \n",
      "                                                                 \n",
      " e3 (Conv2D)                 (None, 112, 112, 32)      18464     \n",
      "                                                                 \n",
      " e4 (Conv2D)                 (None, 112, 112, 16)      4624      \n",
      "                                                                 \n",
      " max_pooling2d_3 (MaxPoolin  (None, 56, 56, 16)        0         \n",
      " g2D)                                                            \n",
      "                                                                 \n",
      " d1 (Conv2D)                 (None, 56, 56, 8)         1160      \n",
      "                                                                 \n",
      " d2 (Conv2D)                 (None, 56, 56, 16)        1168      \n",
      "                                                                 \n",
      " d3 (UpSampling2D)           (None, 112, 112, 16)      0         \n",
      "                                                                 \n",
      " d4 (Conv2D)                 (None, 112, 112, 32)      4640      \n",
      "                                                                 \n",
      " d5 (Conv2D)                 (None, 112, 112, 64)      18496     \n",
      "                                                                 \n",
      " d6 (UpSampling2D)           (None, 224, 224, 64)      0         \n",
      "                                                                 \n",
      " d7 (Conv2D)                 (None, 224, 224, 3)       1731      \n",
      "                                                                 \n",
      "=================================================================\n",
      "Total params: 127659 (498.67 KB)\n",
      "Trainable params: 127659 (498.67 KB)\n",
      "Non-trainable params: 0 (0.00 Byte)\n",
      "_________________________________________________________________\n"
     ]
    }
   ],
   "source": [
    "from tensorflow.keras import Sequential\n",
    "from tensorflow.keras.layers import Input, Dense, Conv2D, UpSampling2D, MaxPooling2D\n",
    "from tensorflow.keras.models import Model\n",
    "\n",
    "input_img = Input(shape=(224,224,3))\n",
    "\n",
    "encoded = Conv2D(128, (3, 3), name='e1' , activation='relu', padding='same')(input_img)\n",
    "encoded = Conv2D(64, (3, 3), name='e2' , activation='relu', padding='same')(encoded)\n",
    "encoded = MaxPooling2D(pool_size=(2, 2))(encoded)\n",
    "\n",
    "encoded = Conv2D(32, (3, 3), name='e3' , activation='relu', padding='same')(encoded)\n",
    "encoded = Conv2D(16, (3, 3), name='e4' , activation='relu', padding='same')(encoded)\n",
    "encoded = MaxPooling2D(pool_size=(2, 2))(encoded)\n",
    "\n",
    "\n",
    "decoded = Conv2D(8, (3, 3), name='d1' , activation='relu', padding='same')(encoded)\n",
    "decoded = Conv2D(16, (3, 3), name='d2' , activation='relu', padding='same')(decoded)\n",
    "decoded = UpSampling2D(size=(2,2),name='d3')(decoded)\n",
    "\n",
    "decoded = Conv2D(32, (3, 3), name='d4' , activation='relu', padding='same')(decoded)\n",
    "decoded = Conv2D(64, (3, 3), name='d5' , activation='relu', padding='same')(decoded)\n",
    "decoded = UpSampling2D(size=(2,2), name='d6')(decoded)\n",
    "\n",
    "decoded = Conv2D(3, (3, 3), name='d7' , activation='sigmoid', padding='same')(decoded)\n",
    "\n",
    "autoencoder = Model(input_img, decoded)\n",
    "autoencoder.summary()"
   ]
  },
  {
   "cell_type": "code",
   "execution_count": 26,
   "id": "6a005895",
   "metadata": {},
   "outputs": [
    {
     "name": "stdout",
     "output_type": "stream",
     "text": [
      "Model: \"model_4\"\n",
      "_________________________________________________________________\n",
      " Layer (type)                Output Shape              Param #   \n",
      "=================================================================\n",
      " input_3 (InputLayer)        [(None, 224, 224, 3)]     0         \n",
      "                                                                 \n",
      " e1 (Conv2D)                 (None, 224, 224, 128)     3584      \n",
      "                                                                 \n",
      " e2 (Conv2D)                 (None, 224, 224, 64)      73792     \n",
      "                                                                 \n",
      " max_pooling2d_2 (MaxPoolin  (None, 112, 112, 64)      0         \n",
      " g2D)                                                            \n",
      "                                                                 \n",
      " e3 (Conv2D)                 (None, 112, 112, 32)      18464     \n",
      "                                                                 \n",
      " e4 (Conv2D)                 (None, 112, 112, 16)      4624      \n",
      "                                                                 \n",
      " max_pooling2d_3 (MaxPoolin  (None, 56, 56, 16)        0         \n",
      " g2D)                                                            \n",
      "                                                                 \n",
      "=================================================================\n",
      "Total params: 100464 (392.44 KB)\n",
      "Trainable params: 100464 (392.44 KB)\n",
      "Non-trainable params: 0 (0.00 Byte)\n",
      "_________________________________________________________________\n"
     ]
    }
   ],
   "source": [
    "encoder = Model(input_img, encoded)\n",
    "encoder.summary()"
   ]
  },
  {
   "cell_type": "code",
   "execution_count": 27,
   "id": "867435b6",
   "metadata": {},
   "outputs": [
    {
     "name": "stdout",
     "output_type": "stream",
     "text": [
      "Model: \"model_5\"\n",
      "_________________________________________________________________\n",
      " Layer (type)                Output Shape              Param #   \n",
      "=================================================================\n",
      " input_4 (InputLayer)        [(None, 5, 5, 16)]        0         \n",
      "                                                                 \n",
      " d1 (Conv2D)                 multiple                  1160      \n",
      "                                                                 \n",
      " d2 (Conv2D)                 multiple                  1168      \n",
      "                                                                 \n",
      " d3 (UpSampling2D)           multiple                  0         \n",
      "                                                                 \n",
      " d4 (Conv2D)                 multiple                  4640      \n",
      "                                                                 \n",
      " d5 (Conv2D)                 multiple                  18496     \n",
      "                                                                 \n",
      " d6 (UpSampling2D)           multiple                  0         \n",
      "                                                                 \n",
      " d7 (Conv2D)                 multiple                  1731      \n",
      "                                                                 \n",
      "=================================================================\n",
      "Total params: 27195 (106.23 KB)\n",
      "Trainable params: 27195 (106.23 KB)\n",
      "Non-trainable params: 0 (0.00 Byte)\n",
      "_________________________________________________________________\n"
     ]
    }
   ],
   "source": [
    "encoded_input = Input(shape=(5,5,16))\n",
    "decoder_layer = autoencoder.get_layer('d1')(encoded_input)\n",
    "decoder_layer = autoencoder.get_layer('d2')(decoder_layer)\n",
    "decoder_layer = autoencoder.get_layer('d3')(decoder_layer)\n",
    "decoder_layer = autoencoder.get_layer('d4')(decoder_layer)\n",
    "decoder_layer = autoencoder.get_layer('d5')(decoder_layer)\n",
    "decoder_layer = autoencoder.get_layer('d6')(decoder_layer)\n",
    "decoder_layer = autoencoder.get_layer('d7')(decoder_layer)\n",
    "decoder = Model(encoded_input, decoder_layer)\n",
    "decoder.summary()"
   ]
  },
  {
   "cell_type": "code",
   "execution_count": 28,
   "id": "1104ac0a",
   "metadata": {},
   "outputs": [],
   "source": [
    "autoencoder.compile(optimizer='adam', loss='binary_crossentropy')"
   ]
  },
  {
   "cell_type": "code",
   "execution_count": 33,
   "id": "81915fd3",
   "metadata": {},
   "outputs": [],
   "source": [
    "from sklearn.model_selection import train_test_split\n",
    "\n",
    "# Use a smaller subset for testing\n",
    "X_train, X_test = train_test_split(images[:1000], test_size=0.2, random_state=1)\n",
    "\n",
    "# Normalisation [0;1]\n",
    "\n",
    "X_train = X_train.astype('float64') / 255.0\n",
    "X_test = X_test.astype('float64') / 255.0"
   ]
  },
  {
   "cell_type": "code",
   "execution_count": 34,
   "id": "967e5401",
   "metadata": {},
   "outputs": [
    {
     "name": "stdout",
     "output_type": "stream",
     "text": [
      "(800, 224, 224, 3)\n",
      "(200, 224, 224, 3)\n"
     ]
    }
   ],
   "source": [
    "print(X_train.shape) \n",
    "print(X_test.shape) "
   ]
  },
  {
   "cell_type": "code",
   "execution_count": 35,
   "id": "eb576bd3",
   "metadata": {},
   "outputs": [
    {
     "name": "stdout",
     "output_type": "stream",
     "text": [
      "Epoch 1/20\n",
      "WARNING:tensorflow:From C:\\Users\\user\\anaconda3\\Lib\\site-packages\\keras\\src\\utils\\tf_utils.py:492: The name tf.ragged.RaggedTensorValue is deprecated. Please use tf.compat.v1.ragged.RaggedTensorValue instead.\n",
      "\n",
      "25/25 [==============================] - 328s 13s/step - loss: 0.3651 - val_loss: 0.1165\n",
      "Epoch 2/20\n",
      "25/25 [==============================] - 313s 12s/step - loss: 0.0941 - val_loss: 0.0790\n",
      "Epoch 3/20\n",
      "25/25 [==============================] - 316s 13s/step - loss: 0.0705 - val_loss: 0.0653\n",
      "Epoch 4/20\n",
      "25/25 [==============================] - 301s 12s/step - loss: 0.0630 - val_loss: 0.0609\n",
      "Epoch 5/20\n",
      "25/25 [==============================] - 312s 12s/step - loss: 0.0595 - val_loss: 0.0584\n",
      "Epoch 6/20\n",
      "25/25 [==============================] - 313s 13s/step - loss: 0.0576 - val_loss: 0.0569\n",
      "Epoch 7/20\n",
      "25/25 [==============================] - 260s 10s/step - loss: 0.0564 - val_loss: 0.0558\n",
      "Epoch 8/20\n",
      "25/25 [==============================] - 225s 9s/step - loss: 0.0554 - val_loss: 0.0550\n",
      "Epoch 9/20\n",
      "25/25 [==============================] - 220s 9s/step - loss: 0.0547 - val_loss: 0.0544\n",
      "Epoch 10/20\n",
      "25/25 [==============================] - 215s 9s/step - loss: 0.0543 - val_loss: 0.0541\n",
      "Epoch 11/20\n",
      "25/25 [==============================] - 786s 32s/step - loss: 0.0538 - val_loss: 0.0537\n",
      "Epoch 12/20\n",
      "25/25 [==============================] - 309s 12s/step - loss: 0.0536 - val_loss: 0.0535\n",
      "Epoch 13/20\n",
      "25/25 [==============================] - 338s 14s/step - loss: 0.0533 - val_loss: 0.0533\n",
      "Epoch 14/20\n",
      "25/25 [==============================] - 329s 13s/step - loss: 0.0531 - val_loss: 0.0530\n",
      "Epoch 15/20\n",
      "25/25 [==============================] - 311s 12s/step - loss: 0.0530 - val_loss: 0.0529\n",
      "Epoch 16/20\n",
      "25/25 [==============================] - 323s 13s/step - loss: 0.0528 - val_loss: 0.0527\n",
      "Epoch 17/20\n",
      "25/25 [==============================] - 319s 13s/step - loss: 0.0528 - val_loss: 0.0527\n",
      "Epoch 18/20\n",
      "25/25 [==============================] - 317s 13s/step - loss: 0.0526 - val_loss: 0.0526\n",
      "Epoch 19/20\n",
      "25/25 [==============================] - 277s 11s/step - loss: 0.0525 - val_loss: 0.0525\n",
      "Epoch 20/20\n",
      "25/25 [==============================] - 238s 10s/step - loss: 0.0526 - val_loss: 0.0526\n",
      "7/7 [==============================] - 8s 1s/step\n"
     ]
    },
    {
     "ename": "ValueError",
     "evalue": "in user code:\n\n    File \"C:\\Users\\user\\anaconda3\\Lib\\site-packages\\keras\\src\\engine\\training.py\", line 2440, in predict_function  *\n        return step_function(self, iterator)\n    File \"C:\\Users\\user\\anaconda3\\Lib\\site-packages\\keras\\src\\engine\\training.py\", line 2425, in step_function  **\n        outputs = model.distribute_strategy.run(run_step, args=(data,))\n    File \"C:\\Users\\user\\anaconda3\\Lib\\site-packages\\keras\\src\\engine\\training.py\", line 2413, in run_step  **\n        outputs = model.predict_step(data)\n    File \"C:\\Users\\user\\anaconda3\\Lib\\site-packages\\keras\\src\\engine\\training.py\", line 2381, in predict_step\n        return self(x, training=False)\n    File \"C:\\Users\\user\\anaconda3\\Lib\\site-packages\\keras\\src\\utils\\traceback_utils.py\", line 70, in error_handler\n        raise e.with_traceback(filtered_tb) from None\n    File \"C:\\Users\\user\\anaconda3\\Lib\\site-packages\\keras\\src\\engine\\input_spec.py\", line 298, in assert_input_compatibility\n        raise ValueError(\n\n    ValueError: Input 0 of layer \"model_5\" is incompatible with the layer: expected shape=(None, 5, 5, 16), found shape=(None, 56, 56, 16)\n",
     "output_type": "error",
     "traceback": [
      "\u001b[1;31m---------------------------------------------------------------------------\u001b[0m",
      "\u001b[1;31mValueError\u001b[0m                                Traceback (most recent call last)",
      "Cell \u001b[1;32mIn[35], line 7\u001b[0m\n\u001b[0;32m      1\u001b[0m autoencoder\u001b[38;5;241m.\u001b[39mfit(X_train, X_train,\n\u001b[0;32m      2\u001b[0m                 epochs\u001b[38;5;241m=\u001b[39m\u001b[38;5;241m20\u001b[39m,\n\u001b[0;32m      3\u001b[0m                 batch_size\u001b[38;5;241m=\u001b[39m\u001b[38;5;241m32\u001b[39m,\n\u001b[0;32m      4\u001b[0m                 shuffle\u001b[38;5;241m=\u001b[39m\u001b[38;5;28;01mTrue\u001b[39;00m,\n\u001b[0;32m      5\u001b[0m                 validation_data\u001b[38;5;241m=\u001b[39m(X_test, X_test))\n\u001b[0;32m      6\u001b[0m encoded_imgs \u001b[38;5;241m=\u001b[39m encoder\u001b[38;5;241m.\u001b[39mpredict(X_test)\n\u001b[1;32m----> 7\u001b[0m decoded_imgs \u001b[38;5;241m=\u001b[39m \u001b[43mdecoder\u001b[49m\u001b[38;5;241;43m.\u001b[39;49m\u001b[43mpredict\u001b[49m\u001b[43m(\u001b[49m\u001b[43mencoded_imgs\u001b[49m\u001b[43m)\u001b[49m\n",
      "File \u001b[1;32m~\\anaconda3\\Lib\\site-packages\\keras\\src\\utils\\traceback_utils.py:70\u001b[0m, in \u001b[0;36mfilter_traceback.<locals>.error_handler\u001b[1;34m(*args, **kwargs)\u001b[0m\n\u001b[0;32m     67\u001b[0m     filtered_tb \u001b[38;5;241m=\u001b[39m _process_traceback_frames(e\u001b[38;5;241m.\u001b[39m__traceback__)\n\u001b[0;32m     68\u001b[0m     \u001b[38;5;66;03m# To get the full stack trace, call:\u001b[39;00m\n\u001b[0;32m     69\u001b[0m     \u001b[38;5;66;03m# `tf.debugging.disable_traceback_filtering()`\u001b[39;00m\n\u001b[1;32m---> 70\u001b[0m     \u001b[38;5;28;01mraise\u001b[39;00m e\u001b[38;5;241m.\u001b[39mwith_traceback(filtered_tb) \u001b[38;5;28;01mfrom\u001b[39;00m \u001b[38;5;28;01mNone\u001b[39;00m\n\u001b[0;32m     71\u001b[0m \u001b[38;5;28;01mfinally\u001b[39;00m:\n\u001b[0;32m     72\u001b[0m     \u001b[38;5;28;01mdel\u001b[39;00m filtered_tb\n",
      "File \u001b[1;32m~\\AppData\\Local\\Temp\\__autograph_generated_file_ffxj9su.py:15\u001b[0m, in \u001b[0;36mouter_factory.<locals>.inner_factory.<locals>.tf__predict_function\u001b[1;34m(iterator)\u001b[0m\n\u001b[0;32m     13\u001b[0m \u001b[38;5;28;01mtry\u001b[39;00m:\n\u001b[0;32m     14\u001b[0m     do_return \u001b[38;5;241m=\u001b[39m \u001b[38;5;28;01mTrue\u001b[39;00m\n\u001b[1;32m---> 15\u001b[0m     retval_ \u001b[38;5;241m=\u001b[39m ag__\u001b[38;5;241m.\u001b[39mconverted_call(ag__\u001b[38;5;241m.\u001b[39mld(step_function), (ag__\u001b[38;5;241m.\u001b[39mld(\u001b[38;5;28mself\u001b[39m), ag__\u001b[38;5;241m.\u001b[39mld(iterator)), \u001b[38;5;28;01mNone\u001b[39;00m, fscope)\n\u001b[0;32m     16\u001b[0m \u001b[38;5;28;01mexcept\u001b[39;00m:\n\u001b[0;32m     17\u001b[0m     do_return \u001b[38;5;241m=\u001b[39m \u001b[38;5;28;01mFalse\u001b[39;00m\n",
      "\u001b[1;31mValueError\u001b[0m: in user code:\n\n    File \"C:\\Users\\user\\anaconda3\\Lib\\site-packages\\keras\\src\\engine\\training.py\", line 2440, in predict_function  *\n        return step_function(self, iterator)\n    File \"C:\\Users\\user\\anaconda3\\Lib\\site-packages\\keras\\src\\engine\\training.py\", line 2425, in step_function  **\n        outputs = model.distribute_strategy.run(run_step, args=(data,))\n    File \"C:\\Users\\user\\anaconda3\\Lib\\site-packages\\keras\\src\\engine\\training.py\", line 2413, in run_step  **\n        outputs = model.predict_step(data)\n    File \"C:\\Users\\user\\anaconda3\\Lib\\site-packages\\keras\\src\\engine\\training.py\", line 2381, in predict_step\n        return self(x, training=False)\n    File \"C:\\Users\\user\\anaconda3\\Lib\\site-packages\\keras\\src\\utils\\traceback_utils.py\", line 70, in error_handler\n        raise e.with_traceback(filtered_tb) from None\n    File \"C:\\Users\\user\\anaconda3\\Lib\\site-packages\\keras\\src\\engine\\input_spec.py\", line 298, in assert_input_compatibility\n        raise ValueError(\n\n    ValueError: Input 0 of layer \"model_5\" is incompatible with the layer: expected shape=(None, 5, 5, 16), found shape=(None, 56, 56, 16)\n"
     ]
    }
   ],
   "source": [
    "autoencoder.fit(X_train, X_train,\n",
    "                epochs=20,\n",
    "                batch_size=32,\n",
    "                shuffle=True,\n",
    "                validation_data=(X_test, X_test))\n",
    "encoded_imgs = encoder.predict(X_test)\n",
    "decoded_imgs = decoder.predict(encoded_imgs)"
   ]
  },
  {
   "cell_type": "code",
   "execution_count": null,
   "id": "15a29dd4",
   "metadata": {},
   "outputs": [],
   "source": [
    "%matplotlib inline\n",
    "import matplotlib.pyplot as plt\n",
    "\n",
    "# Affichage d'images avec leur version non encodé\n",
    "#comparaison avec la version obtenue après encodage / décodage\n",
    "\n",
    "fig, ax = plt.subplots(nrows=2, ncols=10,figsize=(20, 4))\n",
    "plt.gray()\n",
    "for indice, row in enumerate(ax):\n",
    "    for indice2, col in enumerate(row):\n",
    "        if indice == 0:\n",
    "            col.imshow(X_test[indice2].reshape(20,20,3))\n",
    "        else:\n",
    "            col.imshow(decoded_imgs[indice2].reshape(20,20,3))\n",
    "\n",
    "plt.show()"
   ]
  },
  {
   "cell_type": "code",
   "execution_count": null,
   "id": "0e0593ab",
   "metadata": {},
   "outputs": [],
   "source": [
    "def custom_cosine_sim(a,b):\n",
    "    return np.dot(a, b) / ( nalgnp.linalg.norm(a) * np.li.norm(b))"
   ]
  },
  {
   "cell_type": "code",
   "execution_count": null,
   "id": "b1337941",
   "metadata": {},
   "outputs": [],
   "source": [
    "index = 1000\n",
    "\n",
    "plt.imshow(X_test[index])\n",
    "plt.gray()\n",
    "plt.show()\n",
    "\n",
    "img_to_find = encoded_imgs[index]\n",
    "img_to_find = img_to_find.reshape(-1)\n",
    "img_to_find.shape"
   ]
  },
  {
   "cell_type": "code",
   "execution_count": null,
   "id": "c4f71ddd",
   "metadata": {},
   "outputs": [],
   "source": [
    "from scipy import spatial \n",
    "cosine_list = []\n",
    "for index_image, xt in enumerate(encoded_imgs):\n",
    "    result = 1 - spatial.distance.cosine(img_to_find, xt.reshape(-1))\n",
    "    cosine_list.append(dict({'res':result, 'i':index_image}))"
   ]
  },
  {
   "cell_type": "code",
   "execution_count": null,
   "id": "7959ea46",
   "metadata": {},
   "outputs": [],
   "source": [
    "from operator import itemgetter\n",
    "cosine_list.sort(key=itemgetter('res'), reverse=True)"
   ]
  },
  {
   "cell_type": "code",
   "execution_count": null,
   "id": "acd47945",
   "metadata": {},
   "outputs": [],
   "source": [
    "%matplotlib inline\n",
    "import matplotlib.pyplot as plt\n",
    "\n",
    "# Affichage des images similaires avec la valeur associée \n",
    "\n",
    "fig, ax = plt.subplots(nrows=1, ncols=10,figsize=(20, 4))\n",
    "plt.gray()\n",
    "for indice, row in enumerate(ax):\n",
    "    print (cosine_list[indice]['i'], '-', cosine_list[indice]['res'])\n",
    "    row.imshow(X_test[cosine_list[indice]['i']].reshape(20,20,3))\n",
    "\n",
    "plt.show()"
   ]
  },
  {
   "cell_type": "code",
   "execution_count": null,
   "id": "c666bcbd",
   "metadata": {},
   "outputs": [],
   "source": []
  },
  {
   "cell_type": "code",
   "execution_count": null,
   "id": "742f12cf",
   "metadata": {},
   "outputs": [],
   "source": []
  },
  {
   "cell_type": "code",
   "execution_count": null,
   "id": "a966f8cc",
   "metadata": {},
   "outputs": [],
   "source": []
  }
 ],
 "metadata": {
  "kernelspec": {
   "display_name": "Python 3 (ipykernel)",
   "language": "python",
   "name": "python3"
  },
  "language_info": {
   "codemirror_mode": {
    "name": "ipython",
    "version": 3
   },
   "file_extension": ".py",
   "mimetype": "text/x-python",
   "name": "python",
   "nbconvert_exporter": "python",
   "pygments_lexer": "ipython3",
   "version": "3.11.5"
  }
 },
 "nbformat": 4,
 "nbformat_minor": 5
}
